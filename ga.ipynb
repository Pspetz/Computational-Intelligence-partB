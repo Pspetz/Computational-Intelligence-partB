{
 "cells": [
  {
   "cell_type": "code",
   "execution_count": 178,
   "metadata": {},
   "outputs": [
    {
     "name": "stderr",
     "output_type": "stream",
     "text": [
      "[nltk_data] Downloading package punkt to /home/spetz/nltk_data...\n",
      "[nltk_data]   Package punkt is already up-to-date!\n"
     ]
    }
   ],
   "source": [
    "import nltk\n",
    "nltk.download('punkt')\n",
    "from nltk import word_tokenize,sent_tokenize\n",
    "import pandas as pd\n",
    "import re\n",
    "import numpy as np \n",
    "import math\n"
   ]
  },
  {
   "cell_type": "code",
   "execution_count": 180,
   "metadata": {},
   "outputs": [],
   "source": [
    "#TRAIN DATA\n",
    "path = '/home/spetz/Downloads/DeliciousMIL/Data/train-data.dat'\n",
    "\n",
    "\n",
    "clean_files = []\n",
    "df = pd.DataFrame()\n",
    "\n",
    "file = open(path).readlines()\n",
    "len(file)\n",
    "\n",
    "clear_file=[]\n",
    "for i in range(len(file)):\n",
    "    x=re.sub('<.*?>','',file[i])\n",
    "    clear_file.append(x)\n",
    "\n",
    "final_file=clear_file[:1500]\n",
    "clean_doc = []\n",
    "wordfreq = {}\n",
    "for doc in final_file:\n",
    "    tokens = nltk.word_tokenize(doc)\n",
    "    for token in tokens:\n",
    "        if token not in wordfreq.keys():\n",
    "            wordfreq[token] = 1\n",
    "        else:\n",
    "            wordfreq[token] += 1\n",
    "\n",
    "\n",
    "#Term Frequency :                                     suxnotita emfaniseis kathe lekseis wste na kseroume poia einai shmantikoteri kai poia ligoteri shmantiki\n",
    "#TRAIN DATA\n",
    "path = '/home/spetz/Downloads/DeliciousMIL/Data/train-data.dat'\n",
    "\n",
    "#TF = (Frequency of the word in the sentence) / (Total number of words in the sentence)\n",
    "def computeTF(wordDict,bow):\n",
    "    tfDict={}\n",
    "    bowCount=len(bow)\n",
    "    for word,count in wordDict.items():\n",
    "        tfDict[word] = count/float(bowCount)\n",
    "    return tfDict\n"
   ]
  },
  {
   "cell_type": "code",
   "execution_count": 181,
   "metadata": {},
   "outputs": [],
   "source": [
    "tf=computeTF(wordfreq,final_file)\n"
   ]
  },
  {
   "cell_type": "code",
   "execution_count": 182,
   "metadata": {},
   "outputs": [],
   "source": [
    "\n",
    "def computeIDF(docList):\n",
    "    idfDict = {}\n",
    "    N = len(docList)\n",
    "    \n",
    "    idfDict = dict.fromkeys(wordfreq,0)\n",
    "    for word, val in idfDict.items():\n",
    "        idfDict[word] = math.log10(N / (float(val) + 1))\n",
    "        \n",
    "    return(idfDict)\n",
    "\n",
    "idf=computeIDF(wordfreq)\n"
   ]
  },
  {
   "cell_type": "code",
   "execution_count": 183,
   "metadata": {},
   "outputs": [],
   "source": [
    "def computeDFIDF(tfbow,idfs):\n",
    "    tfidf={}\n",
    "    for word,val in tfbow.items():\n",
    "        tfidf[word] = val*idfs[word]\n",
    "\n",
    "    return tfidf\n",
    "\n",
    "\n"
   ]
  },
  {
   "cell_type": "code",
   "execution_count": 184,
   "metadata": {},
   "outputs": [],
   "source": [
    "Tf_idf=computeDFIDF(tf,idf)"
   ]
  },
  {
   "cell_type": "code",
   "execution_count": 185,
   "metadata": {},
   "outputs": [
    {
     "data": {
      "text/plain": [
       "7480"
      ]
     },
     "execution_count": 185,
     "metadata": {},
     "output_type": "execute_result"
    }
   ],
   "source": [
    "new_list = list(Tf_idf.values())\n",
    "len(new_list)"
   ]
  },
  {
   "cell_type": "code",
   "execution_count": 107,
   "metadata": {},
   "outputs": [
    {
     "data": {
      "text/plain": [
       "49"
      ]
     },
     "execution_count": 107,
     "metadata": {},
     "output_type": "execute_result"
    }
   ],
   "source": []
  },
  {
   "cell_type": "code",
   "execution_count": null,
   "metadata": {},
   "outputs": [],
   "source": []
  }
 ],
 "metadata": {
  "interpreter": {
   "hash": "916dbcbb3f70747c44a77c7bcd40155683ae19c65e1c03b4aa3499c5328201f1"
  },
  "kernelspec": {
   "display_name": "Python 3.10.4 64-bit",
   "language": "python",
   "name": "python3"
  },
  "language_info": {
   "codemirror_mode": {
    "name": "ipython",
    "version": 3
   },
   "file_extension": ".py",
   "mimetype": "text/x-python",
   "name": "python",
   "nbconvert_exporter": "python",
   "pygments_lexer": "ipython3",
   "version": "3.10.4"
  },
  "orig_nbformat": 4
 },
 "nbformat": 4,
 "nbformat_minor": 2
}
